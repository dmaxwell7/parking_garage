{
 "cells": [
  {
   "cell_type": "code",
   "execution_count": 7,
   "id": "3f4f0a6b",
   "metadata": {},
   "outputs": [
    {
     "name": "stdout",
     "output_type": "stream",
     "text": [
      "What would you like to do? Take ticket/ Pay for parking/ Leave garage: mobe\n",
      "Please select a response from the list provided!\n",
      "What would you like to do? Take ticket/ Pay for parking/ Leave garage: take ticket\n",
      "What would you like to do? Take ticket/ Pay for parking/ Leave garage: pay for parking\n",
      "Please pay $5 to park. $5\n",
      "Ticket paid\n",
      "What would you like to do? Take ticket/ Pay for parking/ Leave garage: leave garage\n",
      "Scan prepaid ticket or Make payment$5\n",
      "Thank you, Drive Safetly! \n"
     ]
    }
   ],
   "source": [
    "class ParkingGarage():\n",
    "    \n",
    "    def __init__(self):\n",
    "        self.tickets = 75 \n",
    "        self.parkingSpaces = 75\n",
    "        self.currentTicket = {}\n",
    "    \n",
    "    def takeTicket(self):\n",
    "        self.tickets -= 1\n",
    "        self.parkingSpaces -= 1\n",
    "        \n",
    "    def payParking(self):\n",
    "        payment = input('Please pay $5 to park. ')\n",
    "        if payment != '':\n",
    "            print('Ticket paid')\n",
    "            self.parkingSpaces += 1\n",
    "            self.currentTicket['paid'] = True\n",
    "            \n",
    "    def leaveGarage(self):\n",
    "        payment = input('Scan prepaid ticket or Make payment')\n",
    "        if payment != '':\n",
    "            print('Thank you, Drive Safetly! ')\n",
    "        self.tickets += 1\n",
    "        self.parkingSpaces += 1\n",
    "        \n",
    "garage = ParkingGarage()\n",
    "\n",
    "def run():\n",
    "    while True:\n",
    "        action = input('What would you like to do? Take ticket/ Pay for parking/ Leave garage: ')\n",
    "        if action.lower() == 'take ticket':\n",
    "            garage.takeTicket()\n",
    "        elif action.lower() == 'pay for parking':\n",
    "            garage.payParking()\n",
    "        elif action.lower() == 'leave garage':\n",
    "            garage.leaveGarage()\n",
    "            break\n",
    "        else:\n",
    "            print('Please select a response from the list provided!')\n",
    "        \n",
    "run()\n",
    "      \n",
    "        \n",
    "    "
   ]
  },
  {
   "cell_type": "code",
   "execution_count": null,
   "id": "7c98e9c0",
   "metadata": {},
   "outputs": [],
   "source": []
  }
 ],
 "metadata": {
  "kernelspec": {
   "display_name": "Python 3 (ipykernel)",
   "language": "python",
   "name": "python3"
  },
  "language_info": {
   "codemirror_mode": {
    "name": "ipython",
    "version": 3
   },
   "file_extension": ".py",
   "mimetype": "text/x-python",
   "name": "python",
   "nbconvert_exporter": "python",
   "pygments_lexer": "ipython3",
   "version": "3.9.12"
  }
 },
 "nbformat": 4,
 "nbformat_minor": 5
}
